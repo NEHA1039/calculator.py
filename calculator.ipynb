{
  "nbformat": 4,
  "nbformat_minor": 0,
  "metadata": {
    "colab": {
      "provenance": []
    },
    "kernelspec": {
      "name": "python3",
      "display_name": "Python 3"
    },
    "language_info": {
      "name": "python"
    }
  },
  "cells": [
    {
      "cell_type": "code",
      "execution_count": 4,
      "metadata": {
        "colab": {
          "base_uri": "https://localhost:8080/"
        },
        "id": "sUxdo3GiTaH0",
        "outputId": "81f880c4-8239-4c6d-ab3b-ae949d7d7bd1"
      },
      "outputs": [
        {
          "output_type": "stream",
          "name": "stdout",
          "text": [
            "select operation\n",
            "1.addition\n",
            "2.subtraction\n",
            "3.multiplication\n",
            "4.division\n",
            "enter choice1\n",
            "enter the first number2\n",
            "enter the second number3\n",
            "result: 5\n"
          ]
        }
      ],
      "source": [
        "'''write a program to design basic calculator'''\n",
        "def add(x,y):\n",
        "  return x+y\n",
        "def sub(x,y):\n",
        "  return x-y\n",
        "def mul(x,y):\n",
        "  return x*y\n",
        "def div(x,y):\n",
        "  if y!=0:\n",
        "    return x/y\n",
        "  else:\n",
        "    return(\"error\")\n",
        "print(\"select operation\")\n",
        "print(\"1.addition\")\n",
        "print(\"2.subtraction\")\n",
        "print(\"3.multiplication\")\n",
        "print(\"4.division\")\n",
        "choice=input(\"enter choice\")\n",
        "num1=int(input(\"enter the first number\"))\n",
        "num2= int(input(\"enter the second number\"))\n",
        "if choice=='1':\n",
        "  print(\"result:\",add(num1,num2))\n",
        "elif choice=='2':\n",
        "  print(\"result:\",sub(num1.num2))\n",
        "elif choice=='3':\n",
        "  print(\"result:\",mul(num1,num2))\n",
        "elif choice=='4':\n",
        "  print(\"result:\",div(num1,num2))\n",
        "else:\n",
        "  print(\"invalid\")"
      ]
    }
  ]
}